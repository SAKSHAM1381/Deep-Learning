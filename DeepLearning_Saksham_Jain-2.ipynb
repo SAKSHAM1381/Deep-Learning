{
 "cells": [
  {
   "cell_type": "markdown",
   "metadata": {},
   "source": [
    "# Deep Learning  Project"
   ]
  },
  {
   "cell_type": "markdown",
   "metadata": {},
   "source": [
    "# Importing necessary libraries "
   ]
  },
  {
   "cell_type": "code",
   "execution_count": 1,
   "metadata": {
    "id": "2v4hbAXZ6r3j"
   },
   "outputs": [],
   "source": [
    "import tensorflow as tf\n",
    "import numpy as np\n",
    "import matplotlib.pyplot as plt\n",
    "import pandas as pd\n",
    "from sklearn.datasets import load_digits\n",
    "from sklearn.model_selection import train_test_split"
   ]
  },
  {
   "cell_type": "markdown",
   "metadata": {
    "id": "-6B_DV48kb08"
   },
   "source": [
    "# Load the train dataset and split to train and validation data"
   ]
  },
  {
   "cell_type": "code",
   "execution_count": 2,
   "metadata": {
    "id": "idL_xvkh7DvG"
   },
   "outputs": [],
   "source": [
    "train_data = pd.read_csv(\"train.csv\")\n",
    "x_train = train_data.drop(labels = [\"label\"],axis = 1)\n",
    "y_train = train_data[\"label\"]\n",
    "\n",
    "x_train, x_val, y_train, y_val = train_test_split(x_train, y_train, test_size = 0.1, random_state=101)\n",
    "\n",
    "\n",
    "test_data = pd.read_csv(\"test.csv\")\n",
    "x_test = test_data"
   ]
  },
  {
   "cell_type": "markdown",
   "metadata": {
    "id": "MkyPAKUvkj-Z"
   },
   "source": [
    "# Build DNN Model"
   ]
  },
  {
   "cell_type": "code",
   "execution_count": 12,
   "metadata": {
    "colab": {
     "base_uri": "https://localhost:8080/"
    },
    "id": "sHZBvvmDnGkg",
    "outputId": "54674564-b9d2-4703-8bb3-234821840b15"
   },
   "outputs": [
    {
     "name": "stderr",
     "output_type": "stream",
     "text": [
      "/usr/local/lib/python3.10/dist-packages/numpy/core/fromnumeric.py:3430: FutureWarning: In a future version, DataFrame.mean(axis=None) will return a scalar mean over the entire DataFrame. To retain the old behavior, use 'frame.mean(axis=0)' or just 'frame.mean()'\n",
      "  return mean(axis=axis, dtype=dtype, out=out, **kwargs)\n"
     ]
    }
   ],
   "source": [
    "mean = np.mean(x_train)\n",
    "std = np.std(x_train)\n",
    "\n",
    "model_dnn = tf.keras.models.Sequential([\n",
    "\n",
    "    # Lambda layer to standardize by dividing by 255\n",
    "    tf.keras.layers.Lambda(lambda x: x / 255.0, input_shape=[784]),\n",
    "\n",
    "    # Build Deep Neural Network\n",
    "    tf.keras.layers.Dense(1024, activation='relu'),\n",
    "    tf.keras.layers.Dropout(0.3),\n",
    "    tf.keras.layers.BatchNormalization(),\n",
    "    tf.keras.layers.Dense(1024, activation='relu'),\n",
    "    tf.keras.layers.Dropout(0.3),\n",
    "    tf.keras.layers.BatchNormalization(),\n",
    "    tf.keras.layers.Dense(1024, activation='relu'),\n",
    "    tf.keras.layers.Dropout(0.3),\n",
    "    tf.keras.layers.BatchNormalization(),\n",
    "    tf.keras.layers.Dense(10, activation='softmax')\n",
    "])"
   ]
  },
  {
   "cell_type": "markdown",
   "metadata": {
    "id": "93pmuCH2koxu"
   },
   "source": [
    "# Custom Components"
   ]
  },
  {
   "cell_type": "code",
   "execution_count": 39,
   "metadata": {
    "id": "xzGlPXdc7VX9"
   },
   "outputs": [],
   "source": [
    "# Custom activation: Leaky ReLU\n",
    "def leaky_relu(z, alpha=0.01):\n",
    "    return tf.maximum(alpha * z, z)\n",
    "\n",
    "# Custom initializer\n",
    "initializer = tf.keras.initializers.VarianceScaling(scale=2., mode='fan_avg', distribution='uniform')\n",
    "\n",
    "def custom_regularizer(coeff=0.01):\n",
    "    def my_reg(weight_matrix):\n",
    "        return coeff * tf.reduce_sum(tf.abs(weight_matrix))\n",
    "    return my_reg"
   ]
  },
  {
   "cell_type": "markdown",
   "metadata": {
    "id": "oIPVcgrmkr8E"
   },
   "source": [
    "# Build CNN Model"
   ]
  },
  {
   "cell_type": "code",
   "execution_count": 40,
   "metadata": {
    "id": "59RAmrLds_28"
   },
   "outputs": [],
   "source": [
    "model_cnn = tf.keras.models.Sequential([\n",
    "    # Reshape input for CNN\n",
    "    tf.keras.layers.Lambda(lambda x: (x / 255.0), input_shape=[784]),\n",
    "    tf.keras.layers.Reshape((28, 28, 1)),\n",
    "\n",
    "    # convolutional layers\n",
    "    tf.keras.layers.Conv2D(filters=32, kernel_size=(5,5), padding='Same', activation=leaky_relu, kernel_regularizer=custom_regularizer(0.01)),\n",
    "    tf.keras.layers.Conv2D(filters=32, kernel_size=(5,5), padding='Same', activation=leaky_relu, kernel_regularizer=custom_regularizer(0.01)),\n",
    "    tf.keras.layers.MaxPooling2D(pool_size=(2,2)),\n",
    "    tf.keras.layers.Dropout(0.25),\n",
    "\n",
    "    # Flatten for fully connected layers\n",
    "    tf.keras.layers.Flatten(),\n",
    "    tf.keras.layers.Dense(256, activation=leaky_relu, kernel_regularizer=custom_regularizer(0.01)),\n",
    "    tf.keras.layers.Dropout(0.5),\n",
    "    tf.keras.layers.Dense(10, activation='softmax')\n",
    "])\n"
   ]
  },
  {
   "cell_type": "markdown",
   "metadata": {
    "id": "NRLS_aqnkut4"
   },
   "source": [
    "# Compile the models"
   ]
  },
  {
   "cell_type": "code",
   "execution_count": 20,
   "metadata": {
    "id": "D5-7yWW37ZY_"
   },
   "outputs": [],
   "source": [
    "model_dnn.compile(optimizer='adam', loss='sparse_categorical_crossentropy', metrics=['accuracy'])\n",
    "model_cnn.compile(optimizer='adam', loss='sparse_categorical_crossentropy', metrics=['accuracy'])"
   ]
  },
  {
   "cell_type": "markdown",
   "metadata": {
    "id": "evkxNOd7kxSN"
   },
   "source": [
    "# Train DNN and CNN models"
   ]
  },
  {
   "cell_type": "code",
   "execution_count": 16,
   "metadata": {
    "colab": {
     "base_uri": "https://localhost:8080/"
    },
    "id": "wMeToS9Ynr5V",
    "outputId": "4b423d30-d664-464a-b7f1-99bbd44b0fcd"
   },
   "outputs": [
    {
     "name": "stdout",
     "output_type": "stream",
     "text": [
      "Epoch 1/20\n",
      "148/148 [==============================] - 24s 162ms/step - loss: 0.1245 - accuracy: 0.9605 - val_loss: 0.1288 - val_accuracy: 0.9633\n",
      "Epoch 2/20\n",
      "148/148 [==============================] - 24s 162ms/step - loss: 0.0933 - accuracy: 0.9698 - val_loss: 0.0955 - val_accuracy: 0.9710\n",
      "Epoch 3/20\n",
      "148/148 [==============================] - 25s 169ms/step - loss: 0.0758 - accuracy: 0.9754 - val_loss: 0.1112 - val_accuracy: 0.9667\n",
      "Epoch 4/20\n",
      "148/148 [==============================] - 23s 156ms/step - loss: 0.0617 - accuracy: 0.9798 - val_loss: 0.0950 - val_accuracy: 0.9736\n",
      "Epoch 5/20\n",
      "148/148 [==============================] - 25s 168ms/step - loss: 0.0548 - accuracy: 0.9816 - val_loss: 0.1002 - val_accuracy: 0.9726\n",
      "Epoch 6/20\n",
      "148/148 [==============================] - 25s 169ms/step - loss: 0.0481 - accuracy: 0.9842 - val_loss: 0.1023 - val_accuracy: 0.9740\n",
      "Epoch 7/20\n",
      "148/148 [==============================] - 23s 155ms/step - loss: 0.0422 - accuracy: 0.9862 - val_loss: 0.0894 - val_accuracy: 0.9755\n",
      "Epoch 8/20\n",
      "148/148 [==============================] - 26s 173ms/step - loss: 0.0398 - accuracy: 0.9873 - val_loss: 0.0931 - val_accuracy: 0.9786\n",
      "Epoch 9/20\n",
      "148/148 [==============================] - 23s 157ms/step - loss: 0.0368 - accuracy: 0.9878 - val_loss: 0.0952 - val_accuracy: 0.9767\n",
      "Epoch 10/20\n",
      "148/148 [==============================] - 25s 168ms/step - loss: 0.0330 - accuracy: 0.9886 - val_loss: 0.1078 - val_accuracy: 0.9726\n",
      "Epoch 11/20\n",
      "148/148 [==============================] - 24s 160ms/step - loss: 0.0342 - accuracy: 0.9883 - val_loss: 0.1061 - val_accuracy: 0.9760\n",
      "Epoch 12/20\n",
      "148/148 [==============================] - 23s 156ms/step - loss: 0.0305 - accuracy: 0.9896 - val_loss: 0.0836 - val_accuracy: 0.9793\n",
      "Epoch 13/20\n",
      "148/148 [==============================] - 25s 172ms/step - loss: 0.0276 - accuracy: 0.9905 - val_loss: 0.0912 - val_accuracy: 0.9812\n",
      "Epoch 14/20\n",
      "148/148 [==============================] - 23s 155ms/step - loss: 0.0287 - accuracy: 0.9904 - val_loss: 0.1140 - val_accuracy: 0.9764\n",
      "Epoch 15/20\n",
      "148/148 [==============================] - 24s 161ms/step - loss: 0.0252 - accuracy: 0.9916 - val_loss: 0.0951 - val_accuracy: 0.9800\n",
      "Epoch 16/20\n",
      "148/148 [==============================] - 25s 170ms/step - loss: 0.0239 - accuracy: 0.9919 - val_loss: 0.0979 - val_accuracy: 0.9776\n",
      "Epoch 17/20\n",
      "148/148 [==============================] - 24s 160ms/step - loss: 0.0246 - accuracy: 0.9914 - val_loss: 0.0892 - val_accuracy: 0.9781\n",
      "Epoch 18/20\n",
      "148/148 [==============================] - 30s 205ms/step - loss: 0.0242 - accuracy: 0.9918 - val_loss: 0.0935 - val_accuracy: 0.9790\n",
      "Epoch 19/20\n",
      "148/148 [==============================] - 23s 154ms/step - loss: 0.0247 - accuracy: 0.9918 - val_loss: 0.1013 - val_accuracy: 0.9807\n",
      "Epoch 20/20\n",
      "148/148 [==============================] - 23s 156ms/step - loss: 0.0249 - accuracy: 0.9916 - val_loss: 0.1064 - val_accuracy: 0.9786\n"
     ]
    }
   ],
   "source": [
    "# Train the DNN model\n",
    "history_dnn = model_dnn.fit(x_train, y_train, batch_size=256,epochs=20, validation_data=(x_val, y_val))"
   ]
  },
  {
   "cell_type": "code",
   "execution_count": 22,
   "metadata": {
    "colab": {
     "base_uri": "https://localhost:8080/"
    },
    "id": "IltVhWU9kw6F",
    "outputId": "8ead66c8-5bdf-4605-9427-8b8c6ca82e11"
   },
   "outputs": [
    {
     "name": "stdout",
     "output_type": "stream",
     "text": [
      "Epoch 1/2\n",
      "148/148 [==============================] - 319s 2s/step - loss: 0.0564 - accuracy: 0.9831 - val_loss: 0.0301 - val_accuracy: 0.9900\n",
      "Epoch 2/2\n",
      "148/148 [==============================] - 331s 2s/step - loss: 0.0477 - accuracy: 0.9855 - val_loss: 0.0317 - val_accuracy: 0.9921\n"
     ]
    }
   ],
   "source": [
    "# Train the CNN model\n",
    "history_cnn = model_cnn.fit(x_train, y_train, batch_size=256, epochs=2, validation_data=(x_val, y_val))"
   ]
  },
  {
   "cell_type": "markdown",
   "metadata": {
    "id": "K4qhy_eulaY7"
   },
   "source": [
    "# Model Evaluation - Plot learning curves"
   ]
  },
  {
   "cell_type": "markdown",
   "metadata": {
    "id": "WncSL31ilgNz"
   },
   "source": [
    "### Plotting for DNN"
   ]
  },
  {
   "cell_type": "code",
   "execution_count": 23,
   "metadata": {
    "colab": {
     "base_uri": "https://localhost:8080/",
     "height": 505
    },
    "id": "AnOwBVBn7bUL",
    "outputId": "ff8ee0ad-7cee-4764-8424-ad8e41632641"
   },
   "outputs": [
    {
     "data": {
      "text/plain": [
       "<matplotlib.legend.Legend at 0x7b6a550ab460>"
      ]
     },
     "execution_count": 23,
     "metadata": {},
     "output_type": "execute_result"
    },
    {
     "data": {
      "image/png": "[encoded data removed]",
      "text/plain": [
       "<Figure size 1200x500 with 1 Axes>"
      ]
     },
     "metadata": {},
     "output_type": "display_data"
    }
   ],
   "source": [
    "plt.figure(figsize=(12, 5))\n",
    "plt.subplot(1, 2, 1)\n",
    "plt.plot(history_dnn.history['accuracy'], label='Training Accuracy')\n",
    "plt.plot(history_dnn.history['val_accuracy'], label='Validation Accuracy')\n",
    "plt.title('DNN Learning Curves')\n",
    "plt.xlabel('Epochs')\n",
    "plt.ylabel('Accuracy')\n",
    "plt.legend()\n"
   ]
  },
  {
   "cell_type": "markdown",
   "metadata": {
    "id": "7spdba6RljDl"
   },
   "source": [
    "### Plotting for CNN"
   ]
  },
  {
   "cell_type": "code",
   "execution_count": 25,
   "metadata": {
    "colab": {
     "base_uri": "https://localhost:8080/",
     "height": 487
    },
    "id": "mZeHb98t6nkQ",
    "outputId": "19c07c2a-72be-461c-f24d-a60ac8e4c1e6"
   },
   "outputs": [
    {
     "data": {
      "image/png": "[encoded data removed]",
      "text/plain": [
       "<Figure size 640x480 with 1 Axes>"
      ]
     },
     "metadata": {},
     "output_type": "display_data"
    }
   ],
   "source": [
    "plt.subplot(1, 2, 2)\n",
    "plt.plot(history_cnn.history['accuracy'], label='Training Accuracy')\n",
    "plt.plot(history_cnn.history['val_accuracy'], label='Validation Accuracy')\n",
    "plt.title('CNN Learning Curves')\n",
    "plt.xlabel('Epochs')\n",
    "plt.ylabel('Accuracy')\n",
    "plt.legend()\n",
    "\n",
    "plt.tight_layout()\n",
    "plt.show()\n"
   ]
  },
  {
   "cell_type": "markdown",
   "metadata": {
    "id": "S46dzsO1lmoP"
   },
   "source": [
    "# Evaluation using test data"
   ]
  },
  {
   "cell_type": "code",
   "execution_count": 36,
   "metadata": {
    "colab": {
     "base_uri": "https://localhost:8080/"
    },
    "id": "7FdKhwFi7UrY",
    "outputId": "8b614149-2e1e-406c-a5fc-8526f98802e0"
   },
   "outputs": [
    {
     "name": "stdout",
     "output_type": "stream",
     "text": [
      "875/875 [==============================] - 13s 14ms/step\n",
      "875/875 [==============================] - 54s 62ms/step\n"
     ]
    }
   ],
   "source": [
    "dnn_pred = model_dnn.predict(x_test)\n",
    "cnn_pred = model_cnn.predict(x_test)"
   ]
  },
  {
   "cell_type": "code",
   "execution_count": 34,
   "metadata": {
    "id": "3r9jUOvW77G2"
   },
   "outputs": [],
   "source": [
    "dnn_pred = np.argmax(dnn_pred,axis = 1)\n",
    "dnn_pred = pd.Series(dnn_pred,name=\"Label\")\n",
    "dnn_results = pd.concat([pd.Series(range(1,28001),name = \"ImageId\"),dnn_pred],axis = 1)\n",
    "dnn_results.to_csv(\"dnn_results.csv\",index=False)"
   ]
  },
  {
   "cell_type": "code",
   "execution_count": null,
   "metadata": {
    "id": "rJPCg67R8KfD"
   },
   "outputs": [],
   "source": [
    "cnn_pred = np.argmax(cnn_pred,axis = 1)\n",
    "cnn_pred = pd.Series(cnn_pred,name=\"Label\")\n",
    "cnn_results = pd.concat([pd.Series(range(1,28001),name = \"ImageId\"),cnn_pred],axis = 1)\n",
    "cnn_results.to_csv(\"cnn_results.csv\",index=False)"
   ]
  }
 ],
 "metadata": {
  "accelerator": "TPU",
  "colab": {
   "collapsed_sections": [
    "UVPBUgW0lvo0",
    "MkyPAKUvkj-Z",
    "93pmuCH2koxu",
    "oIPVcgrmkr8E",
    "NRLS_aqnkut4",
    "evkxNOd7kxSN",
    "K4qhy_eulaY7",
    "WncSL31ilgNz",
    "7spdba6RljDl",
    "S46dzsO1lmoP"
   ],
   "provenance": []
  },
  "kernelspec": {
   "display_name": "Python 3 (ipykernel)",
   "language": "python",
   "name": "python3"
  },
  "language_info": {
   "codemirror_mode": {
    "name": "ipython",
    "version": 3
   },
   "file_extension": ".py",
   "mimetype": "text/x-python",
   "name": "python",
   "nbconvert_exporter": "python",
   "pygments_lexer": "ipython3",
   "version": "3.11.4"
  }
 },
 "nbformat": 4,
 "nbformat_minor": 1
}
